{
 "cells": [
  {
   "cell_type": "code",
   "execution_count": 37,
   "id": "6a2fbc73",
   "metadata": {},
   "outputs": [],
   "source": [
    "import pandas as pd\n",
    "import numpy as np\n",
    "import matplotlib.pyplot as plt\n",
    "import seaborn as sns"
   ]
  },
  {
   "cell_type": "code",
   "execution_count": 3,
   "id": "3ed3addc",
   "metadata": {},
   "outputs": [],
   "source": [
    "df=pd.read_csv(r\"C:\\Users\\varun\\OneDrive\\Desktop\\Oaisis INternship\\Test.csv\")"
   ]
  },
  {
   "cell_type": "code",
   "execution_count": 4,
   "id": "bc4f9d2e",
   "metadata": {},
   "outputs": [
    {
     "data": {
      "text/html": [
       "<div>\n",
       "<style scoped>\n",
       "    .dataframe tbody tr th:only-of-type {\n",
       "        vertical-align: middle;\n",
       "    }\n",
       "\n",
       "    .dataframe tbody tr th {\n",
       "        vertical-align: top;\n",
       "    }\n",
       "\n",
       "    .dataframe thead th {\n",
       "        text-align: right;\n",
       "    }\n",
       "</style>\n",
       "<table border=\"1\" class=\"dataframe\">\n",
       "  <thead>\n",
       "    <tr style=\"text-align: right;\">\n",
       "      <th></th>\n",
       "      <th>ID</th>\n",
       "      <th>Gender</th>\n",
       "      <th>Ever_Married</th>\n",
       "      <th>Age</th>\n",
       "      <th>Graduated</th>\n",
       "      <th>Profession</th>\n",
       "      <th>Work_Experience</th>\n",
       "      <th>Spending_Score</th>\n",
       "      <th>Family_Size</th>\n",
       "      <th>Var_1</th>\n",
       "    </tr>\n",
       "  </thead>\n",
       "  <tbody>\n",
       "    <tr>\n",
       "      <th>0</th>\n",
       "      <td>458989</td>\n",
       "      <td>Female</td>\n",
       "      <td>Yes</td>\n",
       "      <td>36</td>\n",
       "      <td>Yes</td>\n",
       "      <td>Engineer</td>\n",
       "      <td>0.0</td>\n",
       "      <td>Low</td>\n",
       "      <td>1.0</td>\n",
       "      <td>Cat_6</td>\n",
       "    </tr>\n",
       "    <tr>\n",
       "      <th>1</th>\n",
       "      <td>458994</td>\n",
       "      <td>Male</td>\n",
       "      <td>Yes</td>\n",
       "      <td>37</td>\n",
       "      <td>Yes</td>\n",
       "      <td>Healthcare</td>\n",
       "      <td>8.0</td>\n",
       "      <td>Average</td>\n",
       "      <td>4.0</td>\n",
       "      <td>Cat_6</td>\n",
       "    </tr>\n",
       "    <tr>\n",
       "      <th>2</th>\n",
       "      <td>458996</td>\n",
       "      <td>Female</td>\n",
       "      <td>Yes</td>\n",
       "      <td>69</td>\n",
       "      <td>No</td>\n",
       "      <td>NaN</td>\n",
       "      <td>0.0</td>\n",
       "      <td>Low</td>\n",
       "      <td>1.0</td>\n",
       "      <td>Cat_6</td>\n",
       "    </tr>\n",
       "    <tr>\n",
       "      <th>3</th>\n",
       "      <td>459000</td>\n",
       "      <td>Male</td>\n",
       "      <td>Yes</td>\n",
       "      <td>59</td>\n",
       "      <td>No</td>\n",
       "      <td>Executive</td>\n",
       "      <td>11.0</td>\n",
       "      <td>High</td>\n",
       "      <td>2.0</td>\n",
       "      <td>Cat_6</td>\n",
       "    </tr>\n",
       "    <tr>\n",
       "      <th>4</th>\n",
       "      <td>459001</td>\n",
       "      <td>Female</td>\n",
       "      <td>No</td>\n",
       "      <td>19</td>\n",
       "      <td>No</td>\n",
       "      <td>Marketing</td>\n",
       "      <td>NaN</td>\n",
       "      <td>Low</td>\n",
       "      <td>4.0</td>\n",
       "      <td>Cat_6</td>\n",
       "    </tr>\n",
       "  </tbody>\n",
       "</table>\n",
       "</div>"
      ],
      "text/plain": [
       "       ID  Gender Ever_Married  Age Graduated  Profession  Work_Experience  \\\n",
       "0  458989  Female          Yes   36       Yes    Engineer              0.0   \n",
       "1  458994    Male          Yes   37       Yes  Healthcare              8.0   \n",
       "2  458996  Female          Yes   69        No         NaN              0.0   \n",
       "3  459000    Male          Yes   59        No   Executive             11.0   \n",
       "4  459001  Female           No   19        No   Marketing              NaN   \n",
       "\n",
       "  Spending_Score  Family_Size  Var_1  \n",
       "0            Low          1.0  Cat_6  \n",
       "1        Average          4.0  Cat_6  \n",
       "2            Low          1.0  Cat_6  \n",
       "3           High          2.0  Cat_6  \n",
       "4            Low          4.0  Cat_6  "
      ]
     },
     "execution_count": 4,
     "metadata": {},
     "output_type": "execute_result"
    }
   ],
   "source": [
    "df.head()"
   ]
  },
  {
   "cell_type": "code",
   "execution_count": 5,
   "id": "c6e938f1",
   "metadata": {},
   "outputs": [
    {
     "name": "stdout",
     "output_type": "stream",
     "text": [
      "<class 'pandas.core.frame.DataFrame'>\n",
      "RangeIndex: 2627 entries, 0 to 2626\n",
      "Data columns (total 10 columns):\n",
      " #   Column           Non-Null Count  Dtype  \n",
      "---  ------           --------------  -----  \n",
      " 0   ID               2627 non-null   int64  \n",
      " 1   Gender           2627 non-null   object \n",
      " 2   Ever_Married     2577 non-null   object \n",
      " 3   Age              2627 non-null   int64  \n",
      " 4   Graduated        2603 non-null   object \n",
      " 5   Profession       2589 non-null   object \n",
      " 6   Work_Experience  2358 non-null   float64\n",
      " 7   Spending_Score   2627 non-null   object \n",
      " 8   Family_Size      2514 non-null   float64\n",
      " 9   Var_1            2595 non-null   object \n",
      "dtypes: float64(2), int64(2), object(6)\n",
      "memory usage: 205.4+ KB\n"
     ]
    }
   ],
   "source": [
    "df.info()"
   ]
  },
  {
   "cell_type": "code",
   "execution_count": 6,
   "id": "8502a9df",
   "metadata": {},
   "outputs": [
    {
     "data": {
      "text/plain": [
       "0"
      ]
     },
     "execution_count": 6,
     "metadata": {},
     "output_type": "execute_result"
    }
   ],
   "source": [
    "df.duplicated().sum()"
   ]
  },
  {
   "cell_type": "code",
   "execution_count": 7,
   "id": "4f59c260",
   "metadata": {},
   "outputs": [],
   "source": [
    "categorical_cols = ['Ever_Married', 'Graduated', 'Profession', 'Var_1']\n",
    "for col in categorical_cols:\n",
    "    df[col].fillna(df[col].mode()[0], inplace=True)"
   ]
  },
  {
   "cell_type": "code",
   "execution_count": 8,
   "id": "2c2e0137",
   "metadata": {},
   "outputs": [],
   "source": [
    "x=df['Work_Experience'].mean().round(2)\n",
    "df['Work_Experience']=df['Work_Experience'].fillna(x)"
   ]
  },
  {
   "cell_type": "code",
   "execution_count": 9,
   "id": "2b5829ac",
   "metadata": {},
   "outputs": [],
   "source": [
    "df['Family_Size']=df['Family_Size'].fillna(df['Family_Size'].median())\n",
    "df['Family_Size']=df['Family_Size'].astype('int')"
   ]
  },
  {
   "cell_type": "code",
   "execution_count": 10,
   "id": "e9cbc152",
   "metadata": {},
   "outputs": [
    {
     "data": {
      "text/plain": [
       "ID                 0\n",
       "Gender             0\n",
       "Ever_Married       0\n",
       "Age                0\n",
       "Graduated          0\n",
       "Profession         0\n",
       "Work_Experience    0\n",
       "Spending_Score     0\n",
       "Family_Size        0\n",
       "Var_1              0\n",
       "dtype: int64"
      ]
     },
     "execution_count": 10,
     "metadata": {},
     "output_type": "execute_result"
    }
   ],
   "source": [
    "df.isna().sum()"
   ]
  },
  {
   "cell_type": "code",
   "execution_count": 11,
   "id": "119c46e0",
   "metadata": {},
   "outputs": [
    {
     "data": {
      "text/html": [
       "<div>\n",
       "<style scoped>\n",
       "    .dataframe tbody tr th:only-of-type {\n",
       "        vertical-align: middle;\n",
       "    }\n",
       "\n",
       "    .dataframe tbody tr th {\n",
       "        vertical-align: top;\n",
       "    }\n",
       "\n",
       "    .dataframe thead th {\n",
       "        text-align: right;\n",
       "    }\n",
       "</style>\n",
       "<table border=\"1\" class=\"dataframe\">\n",
       "  <thead>\n",
       "    <tr style=\"text-align: right;\">\n",
       "      <th></th>\n",
       "      <th>ID</th>\n",
       "      <th>Age</th>\n",
       "      <th>Work_Experience</th>\n",
       "      <th>Family_Size</th>\n",
       "    </tr>\n",
       "  </thead>\n",
       "  <tbody>\n",
       "    <tr>\n",
       "      <th>count</th>\n",
       "      <td>2627.000000</td>\n",
       "      <td>2627.000000</td>\n",
       "      <td>2627.000000</td>\n",
       "      <td>2627.000000</td>\n",
       "    </tr>\n",
       "    <tr>\n",
       "      <th>mean</th>\n",
       "      <td>463433.918919</td>\n",
       "      <td>43.649791</td>\n",
       "      <td>2.552322</td>\n",
       "      <td>2.789874</td>\n",
       "    </tr>\n",
       "    <tr>\n",
       "      <th>std</th>\n",
       "      <td>2618.245698</td>\n",
       "      <td>16.967015</td>\n",
       "      <td>3.165346</td>\n",
       "      <td>1.527360</td>\n",
       "    </tr>\n",
       "    <tr>\n",
       "      <th>min</th>\n",
       "      <td>458989.000000</td>\n",
       "      <td>18.000000</td>\n",
       "      <td>0.000000</td>\n",
       "      <td>1.000000</td>\n",
       "    </tr>\n",
       "    <tr>\n",
       "      <th>25%</th>\n",
       "      <td>461162.500000</td>\n",
       "      <td>30.000000</td>\n",
       "      <td>0.000000</td>\n",
       "      <td>2.000000</td>\n",
       "    </tr>\n",
       "    <tr>\n",
       "      <th>50%</th>\n",
       "      <td>463379.000000</td>\n",
       "      <td>41.000000</td>\n",
       "      <td>1.000000</td>\n",
       "      <td>2.000000</td>\n",
       "    </tr>\n",
       "    <tr>\n",
       "      <th>75%</th>\n",
       "      <td>465696.000000</td>\n",
       "      <td>53.000000</td>\n",
       "      <td>3.000000</td>\n",
       "      <td>4.000000</td>\n",
       "    </tr>\n",
       "    <tr>\n",
       "      <th>max</th>\n",
       "      <td>467968.000000</td>\n",
       "      <td>89.000000</td>\n",
       "      <td>14.000000</td>\n",
       "      <td>9.000000</td>\n",
       "    </tr>\n",
       "  </tbody>\n",
       "</table>\n",
       "</div>"
      ],
      "text/plain": [
       "                  ID          Age  Work_Experience  Family_Size\n",
       "count    2627.000000  2627.000000      2627.000000  2627.000000\n",
       "mean   463433.918919    43.649791         2.552322     2.789874\n",
       "std      2618.245698    16.967015         3.165346     1.527360\n",
       "min    458989.000000    18.000000         0.000000     1.000000\n",
       "25%    461162.500000    30.000000         0.000000     2.000000\n",
       "50%    463379.000000    41.000000         1.000000     2.000000\n",
       "75%    465696.000000    53.000000         3.000000     4.000000\n",
       "max    467968.000000    89.000000        14.000000     9.000000"
      ]
     },
     "execution_count": 11,
     "metadata": {},
     "output_type": "execute_result"
    }
   ],
   "source": [
    "df.describe()"
   ]
  },
  {
   "cell_type": "code",
   "execution_count": null,
   "id": "a34263f1",
   "metadata": {},
   "outputs": [],
   "source": []
  },
  {
   "cell_type": "code",
   "execution_count": 12,
   "id": "235cb7be",
   "metadata": {},
   "outputs": [
    {
     "data": {
      "text/html": [
       "<div>\n",
       "<style scoped>\n",
       "    .dataframe tbody tr th:only-of-type {\n",
       "        vertical-align: middle;\n",
       "    }\n",
       "\n",
       "    .dataframe tbody tr th {\n",
       "        vertical-align: top;\n",
       "    }\n",
       "\n",
       "    .dataframe thead th {\n",
       "        text-align: right;\n",
       "    }\n",
       "</style>\n",
       "<table border=\"1\" class=\"dataframe\">\n",
       "  <thead>\n",
       "    <tr style=\"text-align: right;\">\n",
       "      <th></th>\n",
       "      <th>ID</th>\n",
       "      <th>Gender</th>\n",
       "      <th>Ever_Married</th>\n",
       "      <th>Age</th>\n",
       "      <th>Graduated</th>\n",
       "      <th>Profession</th>\n",
       "      <th>Work_Experience</th>\n",
       "      <th>Spending_Score</th>\n",
       "      <th>Family_Size</th>\n",
       "      <th>Var_1</th>\n",
       "    </tr>\n",
       "  </thead>\n",
       "  <tbody>\n",
       "    <tr>\n",
       "      <th>0</th>\n",
       "      <td>458989</td>\n",
       "      <td>Female</td>\n",
       "      <td>Yes</td>\n",
       "      <td>36</td>\n",
       "      <td>Yes</td>\n",
       "      <td>Engineer</td>\n",
       "      <td>0.00</td>\n",
       "      <td>Low</td>\n",
       "      <td>1</td>\n",
       "      <td>Cat_6</td>\n",
       "    </tr>\n",
       "    <tr>\n",
       "      <th>1</th>\n",
       "      <td>458994</td>\n",
       "      <td>Male</td>\n",
       "      <td>Yes</td>\n",
       "      <td>37</td>\n",
       "      <td>Yes</td>\n",
       "      <td>Healthcare</td>\n",
       "      <td>8.00</td>\n",
       "      <td>Average</td>\n",
       "      <td>4</td>\n",
       "      <td>Cat_6</td>\n",
       "    </tr>\n",
       "    <tr>\n",
       "      <th>2</th>\n",
       "      <td>458996</td>\n",
       "      <td>Female</td>\n",
       "      <td>Yes</td>\n",
       "      <td>69</td>\n",
       "      <td>No</td>\n",
       "      <td>Artist</td>\n",
       "      <td>0.00</td>\n",
       "      <td>Low</td>\n",
       "      <td>1</td>\n",
       "      <td>Cat_6</td>\n",
       "    </tr>\n",
       "    <tr>\n",
       "      <th>3</th>\n",
       "      <td>459000</td>\n",
       "      <td>Male</td>\n",
       "      <td>Yes</td>\n",
       "      <td>59</td>\n",
       "      <td>No</td>\n",
       "      <td>Executive</td>\n",
       "      <td>11.00</td>\n",
       "      <td>High</td>\n",
       "      <td>2</td>\n",
       "      <td>Cat_6</td>\n",
       "    </tr>\n",
       "    <tr>\n",
       "      <th>4</th>\n",
       "      <td>459001</td>\n",
       "      <td>Female</td>\n",
       "      <td>No</td>\n",
       "      <td>19</td>\n",
       "      <td>No</td>\n",
       "      <td>Marketing</td>\n",
       "      <td>2.55</td>\n",
       "      <td>Low</td>\n",
       "      <td>4</td>\n",
       "      <td>Cat_6</td>\n",
       "    </tr>\n",
       "  </tbody>\n",
       "</table>\n",
       "</div>"
      ],
      "text/plain": [
       "       ID  Gender Ever_Married  Age Graduated  Profession  Work_Experience  \\\n",
       "0  458989  Female          Yes   36       Yes    Engineer             0.00   \n",
       "1  458994    Male          Yes   37       Yes  Healthcare             8.00   \n",
       "2  458996  Female          Yes   69        No      Artist             0.00   \n",
       "3  459000    Male          Yes   59        No   Executive            11.00   \n",
       "4  459001  Female           No   19        No   Marketing             2.55   \n",
       "\n",
       "  Spending_Score  Family_Size  Var_1  \n",
       "0            Low            1  Cat_6  \n",
       "1        Average            4  Cat_6  \n",
       "2            Low            1  Cat_6  \n",
       "3           High            2  Cat_6  \n",
       "4            Low            4  Cat_6  "
      ]
     },
     "execution_count": 12,
     "metadata": {},
     "output_type": "execute_result"
    }
   ],
   "source": [
    "df.head()"
   ]
  },
  {
   "cell_type": "code",
   "execution_count": 15,
   "id": "6b2442a5",
   "metadata": {},
   "outputs": [
    {
     "data": {
      "text/plain": [
       "Gender\n",
       "Male      1424\n",
       "Female    1203\n",
       "Name: count, dtype: int64"
      ]
     },
     "execution_count": 15,
     "metadata": {},
     "output_type": "execute_result"
    }
   ],
   "source": [
    "df['Gender'].value_counts()"
   ]
  },
  {
   "cell_type": "code",
   "execution_count": 27,
   "id": "19771c94",
   "metadata": {},
   "outputs": [
    {
     "data": {
      "text/plain": [
       "Age_Segment\n",
       "35-50    940\n",
       "18-35    868\n",
       "50-65    457\n",
       "65+      362\n",
       "Name: count, dtype: int64"
      ]
     },
     "execution_count": 27,
     "metadata": {},
     "output_type": "execute_result"
    }
   ],
   "source": [
    "# Define age segments\n",
    "bins = [18, 35, 50, 65, 100]\n",
    "labels = ['18-35', '35-50', '50-65', '65+']\n",
    "df['Age_Segment'] = pd.cut(df['Age'], bins=bins, labels=labels, right=False)\n",
    "\n",
    "# Display the distribution of age segments\n",
    "age_segment_distribution = df['Age_Segment'].value_counts()\n",
    "age_segment_distribution\n"
   ]
  },
  {
   "cell_type": "code",
   "execution_count": 18,
   "id": "174131cf",
   "metadata": {},
   "outputs": [
    {
     "data": {
      "text/plain": [
       "Spending_Score\n",
       "Low        1616\n",
       "Average     625\n",
       "High        386\n",
       "Name: count, dtype: int64"
      ]
     },
     "execution_count": 18,
     "metadata": {},
     "output_type": "execute_result"
    }
   ],
   "source": [
    "# Display the distribution of spending score segments\n",
    "spending_score_distribution = df['Spending_Score'].value_counts()\n",
    "spending_score_distribution\n"
   ]
  },
  {
   "cell_type": "code",
   "execution_count": 40,
   "id": "450afeb4",
   "metadata": {},
   "outputs": [
    {
     "data": {
      "text/plain": [
       "Age_Segment\n",
       "18-35    3.394009\n",
       "35-50    2.535106\n",
       "50-65    2.770241\n",
       "65+      2.027624\n",
       "Name: Family_Size, dtype: float64"
      ]
     },
     "execution_count": 40,
     "metadata": {},
     "output_type": "execute_result"
    }
   ],
   "source": [
    "# Calculate average family size per age segment\n",
    "age_segment_insights = df.groupby('Age_Segment')['Family_Size'].mean()#.round()\n",
    "age_segment_insights\n"
   ]
  },
  {
   "cell_type": "code",
   "execution_count": 24,
   "id": "eaddbee1",
   "metadata": {},
   "outputs": [
    {
     "data": {
      "text/plain": [
       "Spending_Score\n",
       "Average    47.307200\n",
       "High       59.489637\n",
       "Low        38.451733\n",
       "Name: Age, dtype: float64"
      ]
     },
     "execution_count": 24,
     "metadata": {},
     "output_type": "execute_result"
    }
   ],
   "source": [
    "# Calculate average age per spending score segment\n",
    "spending_score_insights = df.groupby('Spending_Score')['Age'].mean()\n",
    "spending_score_insights\n"
   ]
  },
  {
   "cell_type": "code",
   "execution_count": 28,
   "id": "8736fab9",
   "metadata": {},
   "outputs": [
    {
     "data": {
      "image/png": "[encoded data removed]",
      "text/plain": [
       "<Figure size 1000x600 with 1 Axes>"
      ]
     },
     "metadata": {},
     "output_type": "display_data"
    }
   ],
   "source": [
    "# Plot Age Segment Distribution\n",
    "plt.figure(figsize=(10, 6))\n",
    "age_segment_distribution.plot(kind='bar', color='skyblue')\n",
    "plt.title('Age Segment Distribution')\n",
    "plt.xlabel('Age Segment')\n",
    "plt.ylabel('Number of Individuals')\n",
    "plt.xticks(rotation=0)\n",
    "plt.show()\n"
   ]
  },
  {
   "cell_type": "code",
   "execution_count": 29,
   "id": "8c13125d",
   "metadata": {},
   "outputs": [
    {
     "data": {
      "image/png": "[encoded data removed]",
      "text/plain": [
       "<Figure size 1000x600 with 1 Axes>"
      ]
     },
     "metadata": {},
     "output_type": "display_data"
    }
   ],
   "source": [
    "# Plot Spending Score Distribution\n",
    "plt.figure(figsize=(10, 6))\n",
    "spending_score_distribution.plot(kind='bar', color='coral')\n",
    "plt.title('Spending Score Distribution')\n",
    "plt.xlabel('Spending Score')\n",
    "plt.ylabel('Number of Individuals')\n",
    "plt.xticks(rotation=0)\n",
    "plt.show()\n"
   ]
  },
  {
   "cell_type": "code",
   "execution_count": 32,
   "id": "e40e5357",
   "metadata": {},
   "outputs": [
    {
     "data": {
      "image/png": "[encoded data removed]",
      "text/plain": [
       "<Figure size 1000x600 with 1 Axes>"
      ]
     },
     "metadata": {},
     "output_type": "display_data"
    }
   ],
   "source": [
    "# Plot Average Family Size per Age Segment\n",
    "plt.figure(figsize=(10, 6))\n",
    "age_segment_insights.plot(kind='bar', color='lightgreen')\n",
    "plt.title('Average Family Size per Age Segment')\n",
    "plt.xlabel('Age Segment')\n",
    "plt.ylabel('Average Family Size')\n",
    "plt.xticks(rotation=0)\n",
    "plt.show()\n"
   ]
  },
  {
   "cell_type": "code",
   "execution_count": 33,
   "id": "9bace979",
   "metadata": {},
   "outputs": [
    {
     "data": {
      "image/png": "[encoded data removed]",
      "text/plain": [
       "<Figure size 1000x600 with 1 Axes>"
      ]
     },
     "metadata": {},
     "output_type": "display_data"
    }
   ],
   "source": [
    "# Plot Average Age per Spending Score Segment\n",
    "plt.figure(figsize=(10, 6))\n",
    "spending_score_insights.plot(kind='bar', color='lightcoral')\n",
    "plt.title('Average Age per Spending Score Segment')\n",
    "plt.xlabel('Spending Score')\n",
    "plt.ylabel('Average Age')\n",
    "plt.xticks(rotation=0)\n",
    "plt.show()\n"
   ]
  },
  {
   "cell_type": "code",
   "execution_count": null,
   "id": "6a8bd38c",
   "metadata": {},
   "outputs": [],
   "source": [
    "\n"
   ]
  },
  {
   "cell_type": "code",
   "execution_count": null,
   "id": "81065459",
   "metadata": {},
   "outputs": [],
   "source": [
    "'''Age Segment Distribution:\n",
    "\n",
    "35-50: 940 individuals\n",
    "18-35: 868 individuals\n",
    "50-65: 457 individuals\n",
    "65+: 362 individuals\n",
    "<18: 0 individuals\n",
    "Spending Score Distribution:\n",
    "\n",
    "Low: 1616 individuals\n",
    "Average: 625 individuals\n",
    "High: 386 individuals\n",
    "Age Segment Insights (Average Family Size):\n",
    "\n",
    "<18: No data (no individuals in this segment)\n",
    "18-35: Average family size is approximately 3.39\n",
    "35-50: Average family size is approximately 2.54\n",
    "50-65: Average family size is approximately 2.77\n",
    "65+: Average family size is approximately 2.03\n",
    "Spending Score Insights (Average Age):\n",
    "\n",
    "Low: Average age is approximately 38.45\n",
    "Average: Average age is approximately 47.31\n",
    "High: Average age is approximately 59.49\n",
    "Summary of Insights\n",
    "Age Segmentation:\n",
    "\n",
    "The largest age segment is 35-50, followed by 18-35.\n",
    "There are no individuals under 18 in the dataset.\n",
    "The average family size tends to be larger in the 18-35 segment compared to older segments.\n",
    "Spending Score Segmentation:\n",
    "\n",
    "Most individuals have a low spending score, followed by average and high spending scores.\n",
    "Individuals with a high spending score tend to be older (average age of 59.49).\n",
    "Individuals with a low spending score tend to be younger (average age of 38.45).'''"
   ]
  }
 ],
 "metadata": {
  "kernelspec": {
   "display_name": "Python 3 (ipykernel)",
   "language": "python",
   "name": "python3"
  },
  "language_info": {
   "codemirror_mode": {
    "name": "ipython",
    "version": 3
   },
   "file_extension": ".py",
   "mimetype": "text/x-python",
   "name": "python",
   "nbconvert_exporter": "python",
   "pygments_lexer": "ipython3",
   "version": "3.11.4"
  }
 },
 "nbformat": 4,
 "nbformat_minor": 5
}
